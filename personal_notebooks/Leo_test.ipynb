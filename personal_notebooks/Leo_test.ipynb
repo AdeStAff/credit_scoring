{
 "cells": [
  {
   "cell_type": "code",
   "execution_count": 2,
   "metadata": {},
   "outputs": [],
   "source": [
    "import pandas as pd\n",
    "from sklearn.model_selection import train_test_split\n",
    "from sklearn.linear_model import LinearRegression\n",
    "from sklearn.metrics import root_mean_squared_error\n",
    "import matplotlib.pyplot as plt\n",
    "import seaborn as sns"
   ]
  },
  {
   "cell_type": "code",
   "execution_count": 3,
   "metadata": {},
   "outputs": [
    {
     "data": {
      "text/html": [
       "<div>\n",
       "<style scoped>\n",
       "    .dataframe tbody tr th:only-of-type {\n",
       "        vertical-align: middle;\n",
       "    }\n",
       "\n",
       "    .dataframe tbody tr th {\n",
       "        vertical-align: top;\n",
       "    }\n",
       "\n",
       "    .dataframe thead th {\n",
       "        text-align: right;\n",
       "    }\n",
       "</style>\n",
       "<table border=\"1\" class=\"dataframe\">\n",
       "  <thead>\n",
       "    <tr style=\"text-align: right;\">\n",
       "      <th></th>\n",
       "      <th>ID</th>\n",
       "      <th>Job tenure</th>\n",
       "      <th>Age</th>\n",
       "      <th>Car price</th>\n",
       "      <th>Funding amount</th>\n",
       "      <th>Down payment</th>\n",
       "      <th>Loan duration</th>\n",
       "      <th>Monthly payment</th>\n",
       "      <th>Credit event</th>\n",
       "      <th>Married</th>\n",
       "      <th>Homeowner</th>\n",
       "      <th>Default (y)</th>\n",
       "      <th>Pred_default (y_hat)</th>\n",
       "      <th>PD</th>\n",
       "      <th>Group</th>\n",
       "    </tr>\n",
       "  </thead>\n",
       "  <tbody>\n",
       "    <tr>\n",
       "      <th>0</th>\n",
       "      <td>1</td>\n",
       "      <td>34</td>\n",
       "      <td>55</td>\n",
       "      <td>4875</td>\n",
       "      <td>3087</td>\n",
       "      <td>0</td>\n",
       "      <td>36</td>\n",
       "      <td>0.047895</td>\n",
       "      <td>0</td>\n",
       "      <td>1</td>\n",
       "      <td>1</td>\n",
       "      <td>0</td>\n",
       "      <td>0</td>\n",
       "      <td>0.024480</td>\n",
       "      <td>1</td>\n",
       "    </tr>\n",
       "    <tr>\n",
       "      <th>1</th>\n",
       "      <td>2</td>\n",
       "      <td>5</td>\n",
       "      <td>29</td>\n",
       "      <td>13000</td>\n",
       "      <td>13000</td>\n",
       "      <td>0</td>\n",
       "      <td>60</td>\n",
       "      <td>0.091667</td>\n",
       "      <td>0</td>\n",
       "      <td>0</td>\n",
       "      <td>0</td>\n",
       "      <td>1</td>\n",
       "      <td>0</td>\n",
       "      <td>0.331661</td>\n",
       "      <td>0</td>\n",
       "    </tr>\n",
       "    <tr>\n",
       "      <th>2</th>\n",
       "      <td>3</td>\n",
       "      <td>14</td>\n",
       "      <td>38</td>\n",
       "      <td>17190</td>\n",
       "      <td>14190</td>\n",
       "      <td>0</td>\n",
       "      <td>60</td>\n",
       "      <td>0.088235</td>\n",
       "      <td>0</td>\n",
       "      <td>0</td>\n",
       "      <td>0</td>\n",
       "      <td>0</td>\n",
       "      <td>0</td>\n",
       "      <td>0.187505</td>\n",
       "      <td>0</td>\n",
       "    </tr>\n",
       "    <tr>\n",
       "      <th>3</th>\n",
       "      <td>4</td>\n",
       "      <td>16</td>\n",
       "      <td>37</td>\n",
       "      <td>22773</td>\n",
       "      <td>23568</td>\n",
       "      <td>0</td>\n",
       "      <td>48</td>\n",
       "      <td>0.110084</td>\n",
       "      <td>0</td>\n",
       "      <td>1</td>\n",
       "      <td>1</td>\n",
       "      <td>0</td>\n",
       "      <td>0</td>\n",
       "      <td>0.035441</td>\n",
       "      <td>1</td>\n",
       "    </tr>\n",
       "    <tr>\n",
       "      <th>4</th>\n",
       "      <td>5</td>\n",
       "      <td>1</td>\n",
       "      <td>61</td>\n",
       "      <td>7700</td>\n",
       "      <td>8526</td>\n",
       "      <td>0</td>\n",
       "      <td>48</td>\n",
       "      <td>0.123404</td>\n",
       "      <td>0</td>\n",
       "      <td>1</td>\n",
       "      <td>0</td>\n",
       "      <td>1</td>\n",
       "      <td>0</td>\n",
       "      <td>0.340883</td>\n",
       "      <td>0</td>\n",
       "    </tr>\n",
       "  </tbody>\n",
       "</table>\n",
       "</div>"
      ],
      "text/plain": [
       "   ID  Job tenure  Age  Car price  Funding amount  Down payment  \\\n",
       "0   1          34   55       4875            3087             0   \n",
       "1   2           5   29      13000           13000             0   \n",
       "2   3          14   38      17190           14190             0   \n",
       "3   4          16   37      22773           23568             0   \n",
       "4   5           1   61       7700            8526             0   \n",
       "\n",
       "   Loan duration  Monthly payment  Credit event  Married  Homeowner  \\\n",
       "0             36         0.047895             0        1          1   \n",
       "1             60         0.091667             0        0          0   \n",
       "2             60         0.088235             0        0          0   \n",
       "3             48         0.110084             0        1          1   \n",
       "4             48         0.123404             0        1          0   \n",
       "\n",
       "   Default (y)  Pred_default (y_hat)        PD  Group  \n",
       "0            0                     0  0.024480      1  \n",
       "1            1                     0  0.331661      0  \n",
       "2            0                     0  0.187505      0  \n",
       "3            0                     0  0.035441      1  \n",
       "4            1                     0  0.340883      0  "
      ]
     },
     "execution_count": 3,
     "metadata": {},
     "output_type": "execute_result"
    }
   ],
   "source": [
    "data = pd.read_excel('../dataproject2024.xlsx')\n",
    "data.head()"
   ]
  },
  {
   "cell_type": "code",
   "execution_count": 55,
   "metadata": {},
   "outputs": [
    {
     "data": {
      "text/plain": [
       "Index(['ID', 'Job tenure', 'Age', 'Car price', 'Funding amount',\n",
       "       'Down payment', 'Loan duration', 'Monthly payment', 'Credit event',\n",
       "       'Married', 'Homeowner', 'Default (y)', 'Pred_default (y_hat)', 'PD',\n",
       "       'Group'],\n",
       "      dtype='object')"
      ]
     },
     "execution_count": 55,
     "metadata": {},
     "output_type": "execute_result"
    }
   ],
   "source": [
    "data.columns"
   ]
  },
  {
   "cell_type": "code",
   "execution_count": 61,
   "metadata": {},
   "outputs": [],
   "source": [
    "X = data.drop(columns=['ID','Default (y)', 'Pred_default (y_hat)','PD','Group'])\n",
    "y = data['PD']"
   ]
  },
  {
   "cell_type": "code",
   "execution_count": 63,
   "metadata": {},
   "outputs": [
    {
     "data": {
      "text/plain": [
       "np.float64(0.16033557028830137)"
      ]
     },
     "execution_count": 63,
     "metadata": {},
     "output_type": "execute_result"
    }
   ],
   "source": [
    "X_train, X_test, y_train, y_test = train_test_split(X,y)\n",
    "\n",
    "model = LinearRegression()\n",
    "\n",
    "model.fit(X_train,y_train)\n",
    "y_pred = model.predict(X_test)\n",
    "rmse = root_mean_squared_error(y_test,y_pred)\n",
    "rmse"
   ]
  },
  {
   "cell_type": "code",
   "execution_count": 64,
   "metadata": {},
   "outputs": [
    {
     "data": {
      "text/plain": [
       "array(['Job tenure', 'Age', 'Car price', 'Funding amount', 'Down payment',\n",
       "       'Loan duration', 'Monthly payment', 'Credit event', 'Married',\n",
       "       'Homeowner'], dtype=object)"
      ]
     },
     "execution_count": 64,
     "metadata": {},
     "output_type": "execute_result"
    }
   ],
   "source": [
    "features = model.feature_names_in_\n",
    "features"
   ]
  },
  {
   "cell_type": "code",
   "execution_count": 65,
   "metadata": {},
   "outputs": [],
   "source": [
    "coefficients = model.coef_"
   ]
  },
  {
   "cell_type": "code",
   "execution_count": 66,
   "metadata": {},
   "outputs": [
    {
     "data": {
      "text/plain": [
       "<Axes: >"
      ]
     },
     "execution_count": 66,
     "metadata": {},
     "output_type": "execute_result"
    },
    {
     "data": {
      "image/png": "[encoded data removed]",
      "text/plain": [
       "<Figure size 1000x600 with 1 Axes>"
      ]
     },
     "metadata": {},
     "output_type": "display_data"
    }
   ],
   "source": [
    "plt.figure(figsize=(10, 6))\n",
    "sns.barplot(x=coefficients, y=features)"
   ]
  },
  {
   "cell_type": "code",
   "execution_count": null,
   "metadata": {},
   "outputs": [],
   "source": []
  }
 ],
 "metadata": {
  "kernelspec": {
   "display_name": "fairness_venv",
   "language": "python",
   "name": "python3"
  },
  "language_info": {
   "codemirror_mode": {
    "name": "ipython",
    "version": 3
   },
   "file_extension": ".py",
   "mimetype": "text/x-python",
   "name": "python",
   "nbconvert_exporter": "python",
   "pygments_lexer": "ipython3",
   "version": "3.12.6"
  },
  "orig_nbformat": 4
 },
 "nbformat": 4,
 "nbformat_minor": 2
}
